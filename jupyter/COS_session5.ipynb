{
 "cells": [
  {
   "cell_type": "markdown",
   "metadata": {},
   "source": [
    "He visto que dedicais demasiadas horas a las practicas. Recuerdo la regla intentais pasar un maximo de 2h.\n",
    "A partir de ahora, cambiamos un poco los criterios de avaluacion, hasta ahora yo miraba si funcionava, si habiais hecho el trabajo. Pero a partir de ahora intentaremos sobre todo programar \"bien\", es decir seguir las siguientes reglas:\n",
    "    - comentarios: codigo comentado para que se entienda, los comentarios tienen que ser presentes pero tambien ser concisos para evitar sobre caregar inutilmente el codigo\n",
    "    - nombre de variables explicito: elegir con cuidado los nombres de variable para que el codigo sea facil de entender\n",
    "    - Optimizacion: Intentaremos no hacer trabajar el ordenador inutilmente, es decir, utilizar numpy si es possible en ves de las loops, no hacer loops inutiles, no escribir lineas inutiles (por ejemplo incrementar el contador dentro de un for).\n",
    "    - simple es mejor que complicado: a veces mejor buscar un poco mas una manera sencilla y elegante de hacer las cosas es mejor que escribir toneladas de for, de if, y de while\n",
    "    - escribir funciones: cuando teneis que repetir una operacion varias veces, mejor hacer una funcion. No olvidar escribir la documentacion de la funciones\n",
    "    - Hardcoded prohibido: poner los numeros en variables, nunca hacer un print y copiar el valora mano. (excepto por los nombre de varible de los fichieros netcdf y para definir el rango de una figura).\n",
    "    - Control de error: Es mejor cuando se escriba una funcion pensar a comprovar que los arguementos esten bien, por ejemplo sus dimensiones, comprovar que los fichieros existen..."
   ]
  },
  {
   "cell_type": "markdown",
   "metadata": {},
   "source": [
    "Sigo poniendo 2 niveles de dificuldad y un tiempo estimado"
   ]
  },
  {
   "cell_type": "markdown",
   "metadata": {},
   "source": [
    "## Que controla la precipitaciones en hivierno?"
   ]
  },
  {
   "cell_type": "markdown",
   "metadata": {},
   "source": [
    "### Part 1 - Tendencia (facil - 7pt)"
   ]
  },
  {
   "cell_type": "markdown",
   "metadata": {},
   "source": [
    "1) Leer el fichiero de precipitacion de GPCP sobre Europa (https://www.esrl.noaa.gov/psd/data/gridded/data.gpcp.html). Utilizando el servidor Opendab o descargando el fichiero. Convertir los valores en mm/day. (tiempo max: 25min - 1 pt)"
   ]
  },
  {
   "cell_type": "code",
   "execution_count": 1,
   "metadata": {},
   "outputs": [],
   "source": [
    "#import netcdf library\n",
    "from netCDF4 import Dataset as nc \n",
    "#import date conversor netcdf\n",
    "from netCDF4 import num2date, date2num \n",
    "from datetime import date, timedelta, datetime\n",
    "import numpy as np\n",
    "import os\n",
    "from scipy import stats\n",
    "import sys"
   ]
  },
  {
   "cell_type": "code",
   "execution_count": 23,
   "metadata": {},
   "outputs": [
    {
     "data": {
      "text/plain": [
       "OrderedDict([('lat', <class 'netCDF4._netCDF4.Variable'>\n",
       "              float32 lat(lat)\n",
       "                  units: degrees_north\n",
       "                  actual_range: [ 88.75 -88.75]\n",
       "                  long_name: Latitude\n",
       "                  standard_name: latitude\n",
       "                  axis: Y\n",
       "              unlimited dimensions: \n",
       "              current shape = (72,)\n",
       "              filling on, default _FillValue of 9.969209968386869e+36 used),\n",
       "             ('lon', <class 'netCDF4._netCDF4.Variable'>\n",
       "              float32 lon(lon)\n",
       "                  units: degrees_east\n",
       "                  long_name: Longitude\n",
       "                  actual_range: [  1.25 358.75]\n",
       "                  standard_name: longitude\n",
       "                  axis: X\n",
       "              unlimited dimensions: \n",
       "              current shape = (144,)\n",
       "              filling on, default _FillValue of 9.969209968386869e+36 used),\n",
       "             ('time_bnds', <class 'netCDF4._netCDF4.Variable'>\n",
       "              float32 time_bnds(time, nv)\n",
       "                  comment: time bounds for each time value\n",
       "                  units: days since 1800-01-01 00:00:00 0:00\n",
       "              unlimited dimensions: time\n",
       "              current shape = (489, 2)\n",
       "              filling on, default _FillValue of 9.969209968386869e+36 used),\n",
       "             ('lat_bnds', <class 'netCDF4._netCDF4.Variable'>\n",
       "              float32 lat_bnds(lat, nv)\n",
       "                  units: degrees_north\n",
       "                  comment: latitude values at the north and south bounds of each pixel.\n",
       "              unlimited dimensions: \n",
       "              current shape = (72, 2)\n",
       "              filling on, default _FillValue of 9.969209968386869e+36 used),\n",
       "             ('lon_bnds', <class 'netCDF4._netCDF4.Variable'>\n",
       "              float32 lon_bnds(lon, nv)\n",
       "                  units: degrees_east\n",
       "                  comment: longitude values at the west and east bounds of each pixel.\n",
       "              unlimited dimensions: \n",
       "              current shape = (144, 2)\n",
       "              filling on, default _FillValue of 9.969209968386869e+36 used),\n",
       "             ('precip', <class 'netCDF4._netCDF4.Variable'>\n",
       "              float32 precip(time, lat, lon)\n",
       "                  long_name: Average Monthly Rate of Precipitation\n",
       "                  valid_range: [  0. 100.]\n",
       "                  units: mm/day\n",
       "                  add_offset: 0.0\n",
       "                  scale_factor: 1.0\n",
       "                  missing_value: -9.96921e+36\n",
       "                  precision: 32767\n",
       "                  least_significant_digit: 2\n",
       "                  var_desc: Precipitation\n",
       "                  dataset: GPCP Version 2.3 Combined Precipitation Dataset\n",
       "                  level_desc: Surface\n",
       "                  statistic: Mean\n",
       "                  parent_stat: Mean\n",
       "                  actual_range: [ 0.     47.3274]\n",
       "              unlimited dimensions: time\n",
       "              current shape = (489, 72, 144)\n",
       "              filling on, default _FillValue of 9.969209968386869e+36 used),\n",
       "             ('time', <class 'netCDF4._netCDF4.Variable'>\n",
       "              float64 time(time)\n",
       "                  units: days since 1800-1-1 00:00:0.0\n",
       "                  long_name: Time\n",
       "                  delta_t: 0000-01-00 00:00:00\n",
       "                  avg_period: 0000-01-00 00:00:00\n",
       "                  standard_name: time\n",
       "                  axis: T\n",
       "                  actual_range: [65378. 80231.]\n",
       "              unlimited dimensions: time\n",
       "              current shape = (489,)\n",
       "              filling on, default _FillValue of 9.969209968386869e+36 used)])"
      ]
     },
     "execution_count": 23,
     "metadata": {},
     "output_type": "execute_result"
    }
   ],
   "source": [
    "file = nc(\"precip.mon.mean.nc\", \"r\")\n",
    "file.variables"
   ]
  },
  {
   "cell_type": "code",
   "execution_count": 2,
   "metadata": {},
   "outputs": [],
   "source": [
    "def read_var_from_file (file_name, variable, lon_lat, lon_lat_name):\n",
    "    \"\"\"\n",
    "    function that reads a file, and limits a variable to a \n",
    "    region of the earth globe (latitude and longitude)\n",
    "    file_name: name of the file (as saved in the folder)\n",
    "    variable: name of the variable that has to be boxed\n",
    "    lon_lat: Boundaries of latitude and longitude for the region studied (box)\n",
    "    lon_lat_name: Array of the names that the file uses for \"latitude\" and \"longitude\" variables\n",
    "    \"\"\"\n",
    "    # firstly the file is read\n",
    "    try :\n",
    "        file = nc(file_name, \"r\") # open the netcdf file \n",
    "    except:\n",
    "        print(\"el fichiero \"+file_name+\" no existe.\")\n",
    "        sys.exit(1)\n",
    "    # read time axis\n",
    "    if \"time\" in file.variables.keys():\n",
    "        timevar = file.variables[\"time\"]\n",
    "    else:\n",
    "        print(\"no variable time in the file\")\n",
    "        sys.exit(1)\n",
    "        \n",
    "    dates = num2date(timevar[:], units=timevar.units) \n",
    "    \n",
    "    # read longitude\n",
    "    if lon_lat_name[0] in file.variables.keys():    \n",
    "        lon = file.variables[lon_lat_name[0]][:]\n",
    "    else:\n",
    "        print(\"no variable\",lon_lat_name[0], \"in the file\")\n",
    "        sys.exit(1)\n",
    "    # read latitude\n",
    "    if lon_lat_name[1] in file.variables.keys():    \n",
    "        lat = file.variables[lon_lat_name[1]][:]\n",
    "    else:\n",
    "        print(\"no variable\", lon_lat_name[1], \"in the file\")\n",
    "        sys.exit(1)\n",
    "    # check the existence and the dimension of 'variable'\n",
    "    if not(variable in file.variables.keys()):\n",
    "        print(\"no variable \"+variable+\" in the file\")\n",
    "        sys.exit(1)\n",
    "    # check the dimension of the variable shape\n",
    "    elif len(file.variables[variable].shape)!=3:\n",
    "        print(\"This function is done to read varable of size 3\")\n",
    "        sys.exit(1)\n",
    "    # limit the years of data in order to fit the geopotential data shape with the      \n",
    "    fullyear = np.where(dates<datetime(year=2019, month=1, day=1))[0]\n",
    "    dates = dates[fullyear]\n",
    "\n",
    "    # Make all the longitudes fall in the range of 0-360 degrees \n",
    "    # As the files don't have longitude organized from -180 to 180 deg\n",
    "    lon_lat = np.array(lon_lat)\n",
    "    lon_lat[:2] = (lon_lat[:2] + 360)%360\n",
    "    \n",
    "    # Bound the latitude between the latitude boundaries\n",
    "    lat_box = np.where((lat > lon_lat[2])&(lat < lon_lat[3]))[0]\n",
    "    lat = lat[lat_box]\n",
    "    \n",
    "    if lon_lat[0]>lon_lat[1]:\n",
    "        # calculate values at the west of Greenwitch\n",
    "        lon_box1 = np.where((lon >= lon_lat[0]))[0]\n",
    "        # calculate values at the east of Greenwitch\n",
    "        lon_box2 = np.where((lon <= lon_lat[1]))[0]\n",
    "        # extract data for the west of Greenwitch\n",
    "        geo_box1 = file.variables[variable][:,lat_box,lon_box1]\n",
    "        # extract data for the east of Greenwitch\n",
    "        geo_box2 = file.variables[variable][:,lat_box,lon_box2]\n",
    "        # concatenate both extracted data into a single box\n",
    "        geo_box_var = np.concatenate((geo_box1, geo_box2), axis=2)\n",
    "        lon = np.concatenate((lon[lon_box1], lon[lon_box2]), axis = 0)\n",
    "    else:\n",
    "        # Bound the longitude between the longitude boundaries\n",
    "        lon_box = np.where((lon >= lon_lat[0])&(lon <= lon_lat[1]))[0]\n",
    "        # create a data varaible inside the box defined\n",
    "        geo_box_var = file.variables[variable][fullyear,lat_box,lon_box]\n",
    "        lon = lon[lon_box]\n",
    "        \n",
    "    # definition of the number of years that will be considered\n",
    "    nyear = int(len(fullyear)/12)\n",
    "    geo_box_var = geo_box_var[fullyear,:,:]\n",
    "    \n",
    "    return (geo_box_var, dates, lon, lat, nyear)"
   ]
  },
  {
   "cell_type": "code",
   "execution_count": 3,
   "metadata": {},
   "outputs": [],
   "source": [
    "# Box of Latitude and Longitude for Europe (lon1, lon2, lat1, lat2)\n",
    "lon_lat = [-25, 45, 30, 80]\n",
    "# The variables latitude and longitude are referenced with the following names \n",
    "lon_lat_name = [\"lon\",\"lat\"]\n",
    "variable_name = \"precip\"\n",
    "urlbase = \"https://www.esrl.noaa.gov/psd/thredds/dodsC/Datasets/gpcp/\"\n",
    "filename = urlbase+\"precip.mon.mean.nc\" \n",
    "filename = \"precip.mon.mean.nc\" \n",
    "precip, dates, lon, lat, nyear = read_var_from_file(filename,variable_name,lon_lat,lon_lat_name)\n",
    "# reshape the data to months and years \n",
    "precip.shape =(nyear, 12, len(lat), len(lon))\n",
    "# reshape the dates structure to years and months\n",
    "dates.shape = (nyear, 12)"
   ]
  },
  {
   "cell_type": "code",
   "execution_count": 4,
   "metadata": {},
   "outputs": [
    {
     "data": {
      "text/plain": [
       "(40, 12, 20, 28)"
      ]
     },
     "execution_count": 4,
     "metadata": {},
     "output_type": "execute_result"
    }
   ],
   "source": [
    "precip.shape"
   ]
  },
  {
   "cell_type": "markdown",
   "metadata": {},
   "source": [
    "2) Escribir una funcion que calcula las anomalias y calcular las anomalias de precipitaciones (tiempo max: 30min - 2pt)"
   ]
  },
  {
   "cell_type": "code",
   "execution_count": 5,
   "metadata": {},
   "outputs": [],
   "source": [
    "def anomaly (var):\n",
    "    \"\"\"\n",
    "    function that calculates the anomaly and the mean for a series\n",
    "    of data.\n",
    "    var = variable name that the user wants to use\n",
    "    \"\"\"\n",
    "    # mean of the variable\n",
    "    mean_var = np.mean(var, axis = 0) \n",
    "    # expand the mean to an array with the same shape as the var array.\n",
    "    expan_mean_var = np.expand_dims(mean_var, axis=0).repeat(var.shape[0], axis=0)\n",
    "    # print(var.shape,expan_mean_var.shape)\n",
    "    # differentiating both arrays the anomaly is found\n",
    "    anom = var - expan_mean_var\n",
    "    return(anom,mean_var)"
   ]
  },
  {
   "cell_type": "code",
   "execution_count": 6,
   "metadata": {},
   "outputs": [],
   "source": [
    "anom, mean_var = anomaly(precip)"
   ]
  },
  {
   "cell_type": "code",
   "execution_count": 7,
   "metadata": {},
   "outputs": [
    {
     "data": {
      "text/plain": [
       "((39, 1, 20, 28), (39, 2, 20, 28), 40)"
      ]
     },
     "execution_count": 7,
     "metadata": {},
     "output_type": "execute_result"
    }
   ],
   "source": [
    "\n",
    "anom[0:(nyear-1),[11],:,:].shape, anom[1:,[0,1],:,:].shape,nyear\n"
   ]
  },
  {
   "cell_type": "markdown",
   "metadata": {},
   "source": [
    "3) Calcular la media estacional de la precipitaciones en verano (June Julio Agosto) y hivierno (Decembre Enero Febrero, cuidado teneis que juntar los meses seguidos, por ejemplo Decembre 1993 con Enero 1994 y Febrero 1994) (30min - 2pt)"
   ]
  },
  {
   "cell_type": "code",
   "execution_count": 8,
   "metadata": {},
   "outputs": [],
   "source": [
    "# anomaly just for June, July & August months\n",
    "anomJJA = np.mean(anom[:,[5,6,7],:,:], axis = 1)\n",
    "# anomaly just for December, January & February months\n",
    "# To do it, it must be taken into account that december is from teh previous year\n",
    "# create an array with the months we want to make the mean from\n",
    "DJF = []\n",
    "for i in range(nyear-1):\n",
    "    DJF.append(anom[i,11,:,:])\n",
    "    DJF.append(anom[i+1,0,:,:])\n",
    "    DJF.append(anom[i+1,1,:,:])\n",
    "# convert it to numpy\n",
    "DJF_np = np.array(DJF)\n",
    "# shape it so that it has nyear-1 and 3 months i.e. DJF\n",
    "DJF_np.shape = (nyear-1, 3, len(lat), len(lon))\n",
    "anomDJF = np.mean(DJF_np, axis = 1)"
   ]
  },
  {
   "cell_type": "markdown",
   "metadata": {},
   "source": [
    "3) Calcular la tendencia de la precipitacion en verano y hiverno (30 min - 2 pt)"
   ]
  },
  {
   "cell_type": "code",
   "execution_count": 9,
   "metadata": {},
   "outputs": [],
   "source": [
    "def trend_r_pv (anom, lat, lon, x):\n",
    "    \"\"\"\n",
    "    function that calculates the trend, the score and the pvalue \n",
    "    of a given period of time.\n",
    "    anom = anomaly of the variable through time\n",
    "    lat = latitudes defined\n",
    "    lon = longitudes defined\n",
    "    nyear = number of years used\n",
    "    x = variable used in the x axis of the correlation\n",
    "    \"\"\"\n",
    "    #two arrays to save the trend, score and pvalue\n",
    "    trend = np.zeros((len(lat), len(lon)))\n",
    "    r = np.zeros((len(lat), len(lon)))\n",
    "    pvalue = np.zeros((len(lat), len(lon)))\n",
    "\n",
    "    # for that finds the slope of the linear regression, r and pvalue\n",
    "    for ilat in range(len(lat)):\n",
    "        for ilon in range(len(lon)):\n",
    "            linreg = stats.linregress(x,anom[:,ilat,ilon])\n",
    "            trend[ilat, ilon] = linreg.slope\n",
    "            r[ilat, ilon] = linreg.rvalue\n",
    "            pvalue[ilat, ilon] = linreg.pvalue\n",
    "    return(trend, r, pvalue)"
   ]
  },
  {
   "cell_type": "code",
   "execution_count": 10,
   "metadata": {},
   "outputs": [],
   "source": [
    "from sklearn.linear_model import LinearRegression\n",
    "# trend, score and pvalue caluclation for JJA months\n",
    "trendJJA, rJJA, pvalueJJA = trend_r_pv (anomJJA, lat, lon, np.arange(nyear))\n",
    "# trend, score and pvalue caluclation for DJF months\n",
    "trendDJF, rDJF, pvalueDJF = trend_r_pv (anomDJF, lat, lon, np.arange(nyear-1))"
   ]
  },
  {
   "cell_type": "code",
   "execution_count": 11,
   "metadata": {},
   "outputs": [],
   "source": [
    "from sklearn.linear_model import LinearRegression\n",
    "# x contains all the years of data\n",
    "x = np.arange(nyear)\n",
    "# y contains all the years of data -1 because using winter we lose a year of data\n",
    "y = np.arange(nyear-1)\n",
    "# linear regression instance creation\n",
    "model = LinearRegression() \n",
    "# fit the trend. Must be two-dim so an extra dim of shape 1 is created\n",
    "trendJJA = np.array([LinearRegression().fit(x[:, np.newaxis], anomJJA[:,ilat,:]).coef_  for ilat in range(len(lat))]).squeeze()\n",
    "trendDJF = np.array([LinearRegression().fit(y[:, np.newaxis], anomDJF[:,ilat,:]).coef_  for ilat in range(len(lat))]).squeeze()"
   ]
  },
  {
   "cell_type": "markdown",
   "metadata": {},
   "source": [
    "4) Hacer los mapas de la tendencia de precipitacion en hiverno y verano, incluendo la pvalue (40min - 3pt)"
   ]
  },
  {
   "cell_type": "code",
   "execution_count": 12,
   "metadata": {
    "scrolled": true
   },
   "outputs": [],
   "source": [
    "def plotter (trend, pvalue, lon, lat, bar):\n",
    "    \"\"\"\n",
    "    function that plots the anomalies of a variable in a region.\n",
    "    trend = trend of the variable series\n",
    "    pvalue = pvalue of the variable series\n",
    "    lon = longitude\n",
    "    lat = latitude\n",
    "    bar = magnitude color bar definition\n",
    "    \"\"\"\n",
    "    import matplotlib.pyplot as plt\n",
    "    %matplotlib inline\n",
    "    #import cartopy for plotting maps\n",
    "    import cartopy.crs as ccrs\n",
    "    #create a projection\n",
    "    data_crs = ccrs.PlateCarree()\n",
    "    #define a map\n",
    "    ax = plt.axes(projection=ccrs.PlateCarree())\n",
    "    #drw coastline\n",
    "    ax.coastlines()\n",
    "    #put longitude from -180 to 180\n",
    "    lon[lon>180]=lon[lon>180]-360\n",
    "    # create 2d lon lat\n",
    "    lon2d, lat2d = np.meshgrid(lon, lat)\n",
    "    #plot\n",
    "    cs = ax.contourf(lon2d, lat2d, trend, bar, transform=data_crs, cmap=plt.cm.RdBu)\n",
    "    #put dots where the p.value is significant\n",
    "    signi = np.where(pvalue<0.01)\n",
    "    ax.plot(lon2d[signi], lat2d[signi], linestyle='none', marker=\"o\", markersize=0.2)\n",
    "    # drw color bar\n",
    "    cbar = plt.colorbar(cs, orientation=\"horizontal\")\n",
    "    return()"
   ]
  },
  {
   "cell_type": "code",
   "execution_count": 13,
   "metadata": {},
   "outputs": [
    {
     "data": {
      "text/plain": [
       "()"
      ]
     },
     "execution_count": 13,
     "metadata": {},
     "output_type": "execute_result"
    },
    {
     "data": {
      "image/png": "[encoded data removed]",
      "text/plain": [
       "<Figure size 432x288 with 2 Axes>"
      ]
     },
     "metadata": {
      "needs_background": "light"
     },
     "output_type": "display_data"
    }
   ],
   "source": [
    "# use function 'plotter' to show the results of the summer precipitation trend. With the pvalue\n",
    "plotter(trendJJA, pvalueJJA, lon, lat, np.arange(-14,18)/200.)"
   ]
  },
  {
   "cell_type": "code",
   "execution_count": 14,
   "metadata": {},
   "outputs": [
    {
     "data": {
      "text/plain": [
       "()"
      ]
     },
     "execution_count": 14,
     "metadata": {},
     "output_type": "execute_result"
    },
    {
     "data": {
      "image/png": "[encoded data removed]",
      "text/plain": [
       "<Figure size 432x288 with 2 Axes>"
      ]
     },
     "metadata": {
      "needs_background": "light"
     },
     "output_type": "display_data"
    }
   ],
   "source": [
    "# use function 'plotter' to show the results of the winter precipitation trend. With the pvalue\n",
    "plotter(trendDJF, pvalueDJF, lon, lat, np.arange(-14,18)/200.)"
   ]
  },
  {
   "cell_type": "markdown",
   "metadata": {},
   "source": [
    "### small insight on the maps:"
   ]
  },
  {
   "cell_type": "markdown",
   "metadata": {},
   "source": [
    " The generalized trend of the summer season is a generalized descent of the precipitation over all the continent with no significant trend extremes. For the winter months there is a higher difference between regions. Sectors with a clear trend to dryness and other other with more precipitation can be seen. \n",
    "\n",
    " Dryer: Galicia, Ireland, North-Atlantic, Aegean sea...\n",
    " \n",
    " More Precep: Greenland, Polar circle, Black Sea, North-Iceland"
   ]
  },
  {
   "cell_type": "markdown",
   "metadata": {},
   "source": [
    "### Part 2 - NAO mes dificil (3pt)"
   ]
  },
  {
   "cell_type": "markdown",
   "metadata": {},
   "source": [
    "3) Leer los datos de geopotential para el calculo de la NAO https://www.youtube.com/watch?v=KOYJG7j4Iy8 - Norte punto alrededor de -25ºW, 65ºN y cara sur alrededor de -25ºW y 35ºN"
   ]
  },
  {
   "cell_type": "code",
   "execution_count": 15,
   "metadata": {},
   "outputs": [],
   "source": [
    "def read_var_from_file_4 (file_name, variable, lon_NOA,lat_N_NOA,lat_S_NOA,lev):\n",
    "    \"\"\"\n",
    "    function that reads a file, and limits a variable to a \n",
    "    region of the earth globe (latitude and longitude). That variable must be \n",
    "    described in different levels. (like with geopotential at diff. pressure levels)\n",
    "    file_name: name of the file (as saved in the folder)\n",
    "    variable: name of the variable that has to be boxed\n",
    "    lon_lat: Boundaries of latitude and longitude for the region studied (box)\n",
    "    lon_lat_name: Array of the names that the file uses for \"latitude\" and \"longitude\" variables\n",
    "    lev = pressure level where teh data will be extracted from\n",
    "    \"\"\"\n",
    "    # firstly the file is read\n",
    "    try :\n",
    "        file = nc(file_name, \"r\") # open the file \n",
    "    except:\n",
    "        print(\"el fichiero \"+file_name+\" no existe.\")\n",
    "        sys.exit(1)\n",
    "    # the time of the axis is read\n",
    "    if \"time\" in file.variables.keys():\n",
    "        timevar = file.variables[\"time\"]\n",
    "    else:\n",
    "        print(\"no variable time in the file\")\n",
    "        sys.exit(1)\n",
    "        \n",
    "    dates = num2date(timevar[:], units=timevar.units) \n",
    "    \n",
    "    # longitude is read\n",
    "    if \"lon\" in file.variables.keys():    \n",
    "        lon = file.variables[\"lon\"][:]\n",
    "    else:\n",
    "        print(\"no variable 'lon' in the file\")\n",
    "        sys.exit(1)\n",
    "        \n",
    "    # latitude is read\n",
    "    if \"lat\" in file.variables.keys():    \n",
    "        lat = file.variables[\"lat\"][:]\n",
    "    else:\n",
    "        print(\"no variable 'lat' in the file\")\n",
    "        sys.exit(1)\n",
    "    # check the existence and the dimension of varname\n",
    "    if not(variable in file.variables.keys()):\n",
    "        print(\"no variable \"+variable+\" in the file\")\n",
    "        sys.exit(1)\n",
    "    # check the dimension of the variable shape\n",
    "    elif len(file.variables[variable].shape)!=4:\n",
    "        print(\"This function is done to read varable of size 3\")\n",
    "        sys.exit(1)\n",
    "    # check existence of the 'level' variable\n",
    "    if not(\"level\" in file.variables.keys()):\n",
    "        print(\"no variable 'level' in the file\")\n",
    "        sys.exit(1)\n",
    "        \n",
    "    # limit the years of data in order to fit the geopotential data shape with the     \n",
    "    fullyear = np.where((dates>=datetime(year=1979, month=1, day=1)) & (dates<datetime(year=2019, month=1, day=1)))[0]\n",
    "    dates = dates[fullyear]\n",
    "\n",
    "\n",
    "    # Make all the longitudes fall in the range of 0-360 degrees \n",
    "    # As the files don't have longitude organized from -180 to 180 deg\n",
    "    lon_NOA = np.array(lon_NOA)\n",
    "    lon_NOA = (lon_NOA + 360)%360\n",
    "    \n",
    "    # As the user may not know if the exact value for 'lat' is in the data series a bound of 2º is defined\n",
    "    # lat_:_NOA-1 and lon_:_NOA+1\n",
    "    lat_ind_N = np.where((lat >= lat_N_NOA-1)&(lat <= lat_N_NOA+1))[0]\n",
    "    lat_ind_S = np.where((lat >= lat_S_NOA-1)&(lat <= lat_S_NOA+1))[0]\n",
    "    latN = lat[lat_ind_N]\n",
    "    latS = lat[lat_ind_S]\n",
    "    \n",
    "    # limit the data to one specific pressure level: 'lev'\n",
    "    level = file.variables[\"level\"][:]\n",
    "    level_ind = np.where(level == lev)[0]\n",
    "    \n",
    "    # As the user may not know if the exact value for 'lon' is in the data series a bound of 2º is defined\n",
    "    # lon_NOA-1 and lon_NOA+1\n",
    "    lon_ind_NnS = np.where((lon >= lon_NOA-1)&(lon <= lon_NOA+1))[0]\n",
    "    lon_NnS = lon[lon_ind_NnS]\n",
    "    # create a data varaible with the parameters defined\n",
    "    geo_var_N = file.variables[variable][fullyear,level_ind,lat_ind_N,lon_ind_NnS]\n",
    "    geo_var_S = file.variables[variable][fullyear,level_ind,lat_ind_S,lon_ind_NnS] \n",
    "    \n",
    "    # definition of the number of years that will be considered\n",
    "    nyear = int(len(fullyear)/12)\n",
    "    \n",
    "    return (geo_var_N, geo_var_S, dates, lon_NnS, latN, nyear)"
   ]
  },
  {
   "cell_type": "code",
   "execution_count": 16,
   "metadata": {},
   "outputs": [],
   "source": [
    "# The caracteristic latitudes and longitudes for the NOA are defined\n",
    "lonNS = -25;\n",
    "latN = 65\n",
    "latS = 35\n",
    "# The variables latitude and longitude are referenced with the following names \n",
    "variable_name = \"hgt\"\n",
    "filename = \"hgt.mon.mean.nc\"\n",
    "# pressure level where the data will be extracted from\n",
    "lev = 500\n",
    "\n",
    "geopot_N, geopot_S, dates, lon2, lat2, nyear_NAO = read_var_from_file_4(filename,variable_name,lonNS,latN,latS,lev)\n",
    "\n",
    "# reshape the data to months and years \n",
    "geopot_N.shape =(nyear_NAO, 12, 1, len(lat2), len(lon2))\n",
    "geopot_S.shape =(nyear_NAO, 12, 1, len(lat2), len(lon2))\n",
    "# reshape the dates structure to years and months\n",
    "dates.shape = (nyear_NAO, 12)"
   ]
  },
  {
   "cell_type": "markdown",
   "metadata": {},
   "source": [
    "4) Calcular las anomalies de los dos puntos de la NAO. \n"
   ]
  },
  {
   "cell_type": "code",
   "execution_count": 17,
   "metadata": {},
   "outputs": [],
   "source": [
    "# use the predefined function 'anomaly'\n",
    "anom_hgt_N, mean_var = anomaly(geopot_N)\n",
    "anom_hgt_S, mean_var = anomaly(geopot_S)"
   ]
  },
  {
   "cell_type": "markdown",
   "metadata": {},
   "source": [
    "5) Normalizar las anomalies en los dos punto (es decir dividir por la deviation estandard) y hacer la differencia entre las dos series de anomalies - Asi teneis el indice de la NAO. "
   ]
  },
  {
   "cell_type": "code",
   "execution_count": 18,
   "metadata": {},
   "outputs": [],
   "source": [
    "# normalized anomalies\n",
    "anom_norm_N = anom_hgt_N[:]/np.std(anom_hgt_N[:])\n",
    "anom_norm_S = anom_hgt_S[:]/np.std(anom_hgt_S[:])"
   ]
  },
  {
   "cell_type": "markdown",
   "metadata": {},
   "source": [
    "6) Calcular la media estacional de la NAO"
   ]
  },
  {
   "cell_type": "code",
   "execution_count": 19,
   "metadata": {},
   "outputs": [
    {
     "data": {
      "text/plain": [
       "array([[[-0.35276338]],\n",
       "\n",
       "       [[ 0.7043404 ]],\n",
       "\n",
       "       [[-0.27852163]],\n",
       "\n",
       "       [[ 0.78569525]],\n",
       "\n",
       "       [[ 2.0729516 ]],\n",
       "\n",
       "       [[-2.0811462 ]],\n",
       "\n",
       "       [[-0.9583048 ]],\n",
       "\n",
       "       [[-0.7320635 ]],\n",
       "\n",
       "       [[-0.7526271 ]],\n",
       "\n",
       "       [[ 2.2214766 ]],\n",
       "\n",
       "       [[ 1.2880356 ]],\n",
       "\n",
       "       [[ 0.3260382 ]],\n",
       "\n",
       "       [[-0.40462422]],\n",
       "\n",
       "       [[ 1.0777501 ]],\n",
       "\n",
       "       [[ 1.5140306 ]],\n",
       "\n",
       "       [[ 2.8610373 ]],\n",
       "\n",
       "       [[-2.8968842 ]],\n",
       "\n",
       "       [[-1.5462965 ]],\n",
       "\n",
       "       [[-1.0350469 ]],\n",
       "\n",
       "       [[ 1.3733886 ]],\n",
       "\n",
       "       [[ 1.3497885 ]],\n",
       "\n",
       "       [[-1.1676128 ]],\n",
       "\n",
       "       [[-0.89942145]],\n",
       "\n",
       "       [[-0.564974  ]],\n",
       "\n",
       "       [[-1.573974  ]],\n",
       "\n",
       "       [[-0.32050028]],\n",
       "\n",
       "       [[-1.475897  ]],\n",
       "\n",
       "       [[ 0.48696008]],\n",
       "\n",
       "       [[ 0.9857745 ]],\n",
       "\n",
       "       [[-0.35451463]],\n",
       "\n",
       "       [[-4.6947737 ]],\n",
       "\n",
       "       [[-2.7171996 ]],\n",
       "\n",
       "       [[ 1.8875666 ]],\n",
       "\n",
       "       [[-0.23494776]],\n",
       "\n",
       "       [[ 1.9658266 ]],\n",
       "\n",
       "       [[ 3.021837  ]],\n",
       "\n",
       "       [[ 1.7116513 ]],\n",
       "\n",
       "       [[-0.29382065]],\n",
       "\n",
       "       [[ 1.375897  ]]], dtype=float32)"
      ]
     },
     "execution_count": 19,
     "metadata": {},
     "output_type": "execute_result"
    }
   ],
   "source": [
    "# calculate the value of the NAO\n",
    "NAO = anom_norm_S - anom_norm_N\n",
    "\n",
    "# find the winter NAO average\n",
    "DJF = []\n",
    "for i in range(nyear_NAO-1):\n",
    "    DJF.append(NAO[i,11,:,:])\n",
    "    DJF.append(NAO[i+1,0,:,:])\n",
    "    DJF.append(NAO[i+1,1,:,:])\n",
    "# convert it to numpy\n",
    "DJF_np = np.array(DJF)\n",
    "# shape it so that it has nyear-1 and 3 months i.e. DJF\n",
    "DJF_np.shape = (nyear_NAO-1, 3, len(lat2), len(lon2))\n",
    "NAO_DJF = np.mean(DJF_np, axis = 1)\n",
    "NAO_DJF"
   ]
  },
  {
   "cell_type": "markdown",
   "metadata": {},
   "source": [
    "7) Calcular la regression entre los el indice de NAO y los datos de precipitación en hivierno "
   ]
  },
  {
   "cell_type": "code",
   "execution_count": 20,
   "metadata": {},
   "outputs": [],
   "source": [
    "# trend, score and pvalue caluclation for DJF months between the NAO and the precipitation\n",
    "trend_NAO_prec_DJF, r_NAO_prec_DJF, pvalue_NAO_prec_DJF = trend_r_pv (anomDJF, lat, lon, NAO_DJF[:,0,0])"
   ]
  },
  {
   "cell_type": "markdown",
   "metadata": {},
   "source": [
    "8) Hacer el mapa (incluyendo la pvalue), escribir un pequeño comentario de los que podeis deducir de esta figura. (tiempo max: 20min, 1pt)"
   ]
  },
  {
   "cell_type": "code",
   "execution_count": 21,
   "metadata": {},
   "outputs": [
    {
     "data": {
      "text/plain": [
       "()"
      ]
     },
     "execution_count": 21,
     "metadata": {},
     "output_type": "execute_result"
    },
    {
     "data": {
      "image/png": "[encoded data removed]",
      "text/plain": [
       "<Figure size 432x288 with 2 Axes>"
      ]
     },
     "metadata": {
      "needs_background": "light"
     },
     "output_type": "display_data"
    }
   ],
   "source": [
    "# the same 'plotter' function can be used to plot the NAO-precipitation trend \n",
    "# (the range of values represented is modifyed to show all the values)\n",
    "plotter(trend_NAO_prec_DJF, pvalue_NAO_prec_DJF, lon, lat, np.arange(-50,50)/40.)"
   ]
  },
  {
   "cell_type": "markdown",
   "metadata": {},
   "source": [
    "A positive NAO is directly related to the precipitation in the west coasts of Ireland, the UK and norwegian coast due to an increased westward wind.\n",
    "\n",
    "A negative NAO is related to an increase in precipitation in the west of europe due to a smaller west wind component. This allows for the propagation of precipitation to ondulate across europe. \n",
    "\n",
    "The correlation of precipitation with positive NAO is stronger than with negative NAO. This might be due to the fact that having a strong west displacement is more limiting to the precipitation propagation path."
   ]
  }
 ],
 "metadata": {
  "kernelspec": {
   "display_name": "Python 3",
   "language": "python",
   "name": "python3"
  },
  "language_info": {
   "codemirror_mode": {
    "name": "ipython",
    "version": 3
   },
   "file_extension": ".py",
   "mimetype": "text/x-python",
   "name": "python",
   "nbconvert_exporter": "python",
   "pygments_lexer": "ipython3",
   "version": "3.7.6"
  }
 },
 "nbformat": 4,
 "nbformat_minor": 2
}
