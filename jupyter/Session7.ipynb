{
 "cells": [
  {
   "cell_type": "markdown",
   "metadata": {},
   "source": [
    "## Una imagen vale mil palabras"
   ]
  },
  {
   "cell_type": "markdown",
   "metadata": {},
   "source": [
    "Construir una grafica es el arte (si si arte!) de resumir una informacion enorme (varios años, variables, miembros, puntos) en un grafica de una manera:\n",
    "\n",
    "- sintetica\n",
    "- comprehensible\n",
    "- estetica\n",
    "\n",
    "Una \"buena\" figura necessita mucho tiempo i muchas fases preparatorias:\n",
    "- 1) question scientifica\n",
    "- 2) diseño de la analisis estatistica\n",
    "- 3) diseño de la figura \n",
    "- 4) exploracion de los datos (verificacion que son correctos en particular)\n",
    "- 5) analysis estatisca\n",
    "- 6) verificacion de la correctitud de la analysis\n",
    "- 7) figura illustrando los resultados\n",
    "- 8) interpretacion\n",
    "- 9) vuelta al punto 1 o 2 (unas cuantes veces)\n",
    "- 10) relfexion sobre el diseño de la figura (se puede sintetizar la informacion de una mejor manera?)\n",
    "- 11) vuelta al punto 3 (unas cuantes veces)\n",
    "- 12) mejora estetica de la figura (axis, titulo, colores....)\n",
    "\n",
    "En esta classe, hemos trabajado (un poco) hasta ahora los puntos 4, 5. En el proyecto trabajareis la resta de los puntos, hoy veremos unos poquitos ejemplos para el punto 3, 7 y 12. Pero teneis que tener claro, que en 2h, no sabreis todo lo que se puede hacer, ni como hacerlo, y que muchissimo de vuestro trabajo de investigador consistira en buscar la informacion que os falta en internet."
   ]
  },
  {
   "cell_type": "code",
   "execution_count": null,
   "metadata": {},
   "outputs": [],
   "source": [
    "import numpy as np\n",
    "import matplotlib.colors as mc #import to_rgb\n",
    "import matplotlib.cm as cm\n",
    "import scipy.stats as stats\n",
    "import math as m\n",
    "import matplotlib.pyplot as plt\n",
    "import calendar\n",
    "import datetime"
   ]
  },
  {
   "cell_type": "markdown",
   "metadata": {},
   "source": [
    "## Typo de graficas "
   ]
  },
  {
   "cell_type": "markdown",
   "metadata": {},
   "source": [
    "### Lines"
   ]
  },
  {
   "cell_type": "code",
   "execution_count": null,
   "metadata": {},
   "outputs": [],
   "source": [
    "%matplotlib notebook\n",
    "# create the x vector\n",
    "x = np.arange(50)\n",
    "\n",
    "# create several y\n",
    "y1 = np.log(x)\n",
    "y2 = np.log(x)*2\n",
    "y3 = np.log(x)*1.5\n",
    "\n",
    "# basic plot\n",
    "plt.plot(x, y1)\n",
    "#change color\n",
    "plt.plot(x, y2, color=\"purple\")\n",
    "#line thickness\n",
    "plt.plot(x, y3, color=\"darkorange\", linewidth=6)\n",
    "# change linestyle: https://matplotlib.org/3.1.0/gallery/lines_bars_and_markers/linestyles.html\n",
    "plt.plot(x, -y1, linestyle=\"dashdot\")\n",
    "#put a marker for each data\n",
    "plt.plot(x, -y2, color=\"purple\", marker = \"*\")\n",
    "# remove the line\n",
    "plt.scatter(x, -y3, color=\"darkorange\", marker = \"o\", s=20)\n",
    "\n",
    "#draw a vertical line\n",
    "plt.axvline(x=25, color=\"darkblue\")\n",
    "#draw a horizontal line\n",
    "plt.axhline(y=0, color=\"darkgreen\")\n",
    "\n",
    "# set axis label\n",
    "plt.xlabel(\"x\")\n",
    "plt.ylabel(\"log(x)\")\n",
    "\n",
    "#write text on the picture\n",
    "plt.text(30,y1[30], \"log(30)\")\n",
    "# with a marker: https://matplotlib.org/3.1.1/api/markers_api.html\n",
    "plt.scatter(30,y1[30], marker=\"X\")\n",
    "\n",
    "#define figure range\n",
    "plt.yticks(np.arange(-10,11, step=5))\n",
    "\n",
    "#define title\n",
    "plt.title(\"plot of the log function\")\n",
    "plt.savefig(\"log.pdf\")\n",
    "\n"
   ]
  },
  {
   "cell_type": "markdown",
   "metadata": {},
   "source": [
    "#### 1) Ejercicio: realizar una figura en la cual mostrais la media annual de la NAO i la media annual de la AMO (Atlantic Multidecadal Oscilation). Añadir un marcador con un texto por el minimo i el maximo de las dos series, poner labels i titulos."
   ]
  },
  {
   "cell_type": "markdown",
   "metadata": {},
   "source": [
    "Read the NAO"
   ]
  },
  {
   "cell_type": "code",
   "execution_count": null,
   "metadata": {},
   "outputs": [],
   "source": [
    "# read the file\n",
    "f = open(\"norm.nao.monthly.b5001.current.ascii\", \"r\")\n",
    "#data = f.read()\n",
    "#create a list to store the NAO\n",
    "NAO = []\n",
    "#create a list to store the NAO\n",
    "dates = []\n",
    "# read the file line by line\n",
    "for line in f:\n",
    "    #separate the different columns\n",
    "    aux = line.split()\n",
    "    #store the dates\n",
    "    dates.append(datetime.date(year = int(aux[0]), month = int(aux[1]), day = 15))\n",
    "    #store the NAO\n",
    "    NAO.append(float(aux[2]))\n",
    "f.close()   \n",
    "\n",
    " \n",
    "#Convert in numpy array\n",
    "NAO = np.array(NAO)\n",
    "dates = np.array(dates)"
   ]
  },
  {
   "cell_type": "code",
   "execution_count": null,
   "metadata": {},
   "outputs": [],
   "source": [
    "\n",
    "\n",
    "# remove years after 2019\n",
    "datesshort = dates[dates<datetime.date(year = 2019, month = 1, day = 1)]\n",
    "NAOshort = NAO[dates<datetime.date(year = 2019, month = 1, day = 1)]\n",
    "\n",
    "\n",
    "#organizar por año y hacer media anual\n",
    "NAOshort.shape = int(NAOshort.shape[0]/12), 12\n",
    "datesshort.shape = int(datesshort.shape[0]/12), 12\n",
    "\n",
    "#annual mean\n",
    "NAOyear = np.mean(NAOshort, axis = 1)\n",
    "#keep the corresponding date\n",
    "datesyear = datesshort[:,0]"
   ]
  },
  {
   "cell_type": "markdown",
   "metadata": {},
   "source": [
    "Read the AMO (https://www.youtube.com/watch?v=a0KlOA22ne4)"
   ]
  },
  {
   "cell_type": "code",
   "execution_count": null,
   "metadata": {},
   "outputs": [],
   "source": [
    "# read the file\n",
    "f = open(\"amon.us.data\", \"r\")\n",
    "#data = f.read()\n",
    "#create a list to store the NAO\n",
    "AMO = []\n",
    "#create a list to store the NAO\n",
    "datesAMO = []\n",
    "#read and ignore the header and the last lines\n",
    "lines = f.readlines()\n",
    "lines = lines[1:-3]\n",
    "\n",
    "# read the file line by line\n",
    "for line in lines:\n",
    "    #separate the different columns\n",
    "    aux = line.split()\n",
    "    #read the different month\n",
    "    for imon in range(1,len(aux)):\n",
    "        #store the dates\n",
    "        datesAMO.append(datetime.date(year = int(aux[0]), month = int(imon), day = 15))\n",
    "        #store the AMO\n",
    "        AMO.append(float(aux[imon]))\n",
    "f.close()   \n",
    "\n",
    "#convert to numpy arrays\n",
    "datesAMO = np.array(datesAMO)\n",
    "AMO = np.array(AMO)\n",
    "\n",
    "#keep only common dates with NAO time serie\n",
    "indcomondates = np.where((datesAMO>=datesshort[0,0])&(datesAMO<=datesshort[-1,-1]))\n",
    "datesAMOshort = datesAMO[indcomondates]\n",
    "AMOshort = AMO[indcomondates]\n",
    "\n",
    "\n",
    "#organizar por año y hacer media anual\n",
    "AMOshort.shape = int(AMOshort.shape[0]/12), 12\n",
    "datesAMOshort.shape = int(datesAMOshort.shape[0]/12), 12\n",
    "\n",
    "#annual mean\n",
    "AMOyear = np.mean(AMOshort, axis = 1)\n",
    "#keep the corresponding date\n",
    "datesyear = datesshort[:,0]\n",
    "\n",
    "#check that the dates are the same\n",
    "if not(np.array_equal(datesAMOshort,datesshort)):\n",
    "    print(\"the two time seria does not have the same dates\")\n"
   ]
  },
  {
   "cell_type": "markdown",
   "metadata": {},
   "source": [
    "### Scatter plots"
   ]
  },
  {
   "cell_type": "markdown",
   "metadata": {},
   "source": [
    "#### Ejercicio: Un scatter plot es un plot para relacionar dos variables, llamado tambien nube de puntos. Dibujar el scatter plot que relaciona el AMO con la NAO. Es decir que el axis x tiene que ser el AMO y el axis y la NAO, dibujar un punto por cada año. Modifcar labels i titulos. "
   ]
  },
  {
   "cell_type": "code",
   "execution_count": null,
   "metadata": {},
   "outputs": [],
   "source": []
  },
  {
   "cell_type": "markdown",
   "metadata": {},
   "source": [
    "#### Calcular la regression entre el AMO i la NAO i dibujar la linea de regression en el scatter plot."
   ]
  },
  {
   "cell_type": "code",
   "execution_count": null,
   "metadata": {},
   "outputs": [],
   "source": []
  },
  {
   "cell_type": "markdown",
   "metadata": {},
   "source": [
    "## Multi panels"
   ]
  },
  {
   "cell_type": "markdown",
   "metadata": {},
   "source": [
    "A veces queremos poner varias graficas en la misma figura (mutipanel). Existes varias maneras de definir multi panels, para mas informacion ver esta documentacion: https://jakevdp.github.io/PythonDataScienceHandbook/04.08-multiple-subplots.html"
   ]
  },
  {
   "cell_type": "code",
   "execution_count": null,
   "metadata": {},
   "outputs": [],
   "source": [
    "%matplotlib notebook\n",
    "fig, ax = plt.subplots(2, 3)\n"
   ]
  },
  {
   "cell_type": "code",
   "execution_count": null,
   "metadata": {},
   "outputs": [],
   "source": [
    "%matplotlib notebook\n",
    "fig, ax = plt.subplots(2, 3)\n",
    "fig.tight_layout(pad=2)\n"
   ]
  },
  {
   "cell_type": "code",
   "execution_count": null,
   "metadata": {},
   "outputs": [],
   "source": [
    "fig, ax = plt.subplots(2, 3, sharex='col', sharey='row', figsize=(16,8))\n"
   ]
  },
  {
   "cell_type": "code",
   "execution_count": null,
   "metadata": {},
   "outputs": [],
   "source": [
    "fig, ax = plt.subplots(2, 3, sharex='col', sharey='row')"
   ]
  },
  {
   "cell_type": "markdown",
   "metadata": {},
   "source": [
    "NB: toda esta primera parte se prodria hacer tambien utilizando panda i sus funcionalitats de plot. El codigo seria mas elegante."
   ]
  },
  {
   "cell_type": "code",
   "execution_count": null,
   "metadata": {},
   "outputs": [],
   "source": [
    "nrow = 3\n",
    "ncol = 4\n",
    "fig, ax = plt.subplots(nrow, ncol, sharex='col', sharey='row')\n",
    "\n",
    "for icol in range(ncol):\n",
    "    for irow in range(nrow):\n",
    "        ax[irow, icol].scatter(y1, y2)"
   ]
  },
  {
   "cell_type": "markdown",
   "metadata": {},
   "source": [
    "#### Ejercicio: Dibujar en un multipanel por cada mas el scatter plot que relaciona el AMO de este mes con la NAO de este mismo mes. Es decir que el axis x tiene que ser el AMO y el axis y la NAO, dibujar un punto por cada año. Modifcar labels i titulos. "
   ]
  },
  {
   "cell_type": "code",
   "execution_count": null,
   "metadata": {},
   "outputs": [],
   "source": []
  }
 ],
 "metadata": {
  "kernelspec": {
   "display_name": "Python 3",
   "language": "python",
   "name": "python3"
  },
  "language_info": {
   "codemirror_mode": {
    "name": "ipython",
    "version": 3
   },
   "file_extension": ".py",
   "mimetype": "text/x-python",
   "name": "python",
   "nbconvert_exporter": "python",
   "pygments_lexer": "ipython3",
   "version": "3.7.3"
  }
 },
 "nbformat": 4,
 "nbformat_minor": 2
}
