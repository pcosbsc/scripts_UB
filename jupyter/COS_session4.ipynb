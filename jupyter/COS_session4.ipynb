{
 "cells": [
  {
   "cell_type": "markdown",
   "metadata": {},
   "source": [
    "## Descargar datos - 1pts"
   ]
  },
  {
   "cell_type": "markdown",
   "metadata": {},
   "source": [
    "Buscar el la pargina https://www.esrl.noaa.gov/psd/data/gridded/data.ncep.reanalysis.derived.html, los datos mensuales de precipitations y temperatura\n",
    "\n",
    "Descaregar estos fichieros, y guardar los en una carpeta adecuada.\n",
    "\n"
   ]
  },
  {
   "cell_type": "markdown",
   "metadata": {},
   "source": [
    "## Temperatura - precip - 6pts - tiempo maximo 2h"
   ]
  },
  {
   "cell_type": "markdown",
   "metadata": {},
   "source": [
    "1) extraer los datos de precipitation y temperatura sobre europa (como teneis que hacer lo dos veces vuestro codigo quedara mejor si escribeis una funccion) "
   ]
  },
  {
   "cell_type": "code",
   "execution_count": 3,
   "metadata": {},
   "outputs": [],
   "source": [
    "#import netcdf library\n",
    "from netCDF4 import Dataset as nc \n",
    "#import date conversor netcdf\n",
    "from netCDF4 import num2date, date2num \n",
    "from datetime import date, timedelta, datetime\n",
    "import numpy as np\n",
    "import os"
   ]
  },
  {
   "cell_type": "code",
   "execution_count": 8,
   "metadata": {},
   "outputs": [
    {
     "name": "stdout",
     "output_type": "stream",
     "text": [
      "ei <class 'netCDF4._netCDF4.Dataset'>\n",
      "root group (NETCDF4_CLASSIC data model, file format HDF5):\n",
      "    description: Data is from NMC initialized reanalysis\n",
      "(4x/day).  It consists of T42  variables interpolated to\n",
      "pressure surfaces from model (sigma) surfaces.\n",
      "    platform: Model\n",
      "    Conventions: COARDS\n",
      "    NCO: 20121013\n",
      "    history: Mon Jul  5 23:55:54 1999: ncrcat prate.mon.mean.nc /Datasets/ncep.reanalysis.derived/surface_gauss/prate.mon.mean.nc /dm/dmwork/nmc.rean.ingest/combinedMMs/prate.mon.mean.nc\n",
      "/home/hoop/crdc/cpreanjuke2farm/cpreanjuke2farm Mon Oct 23 21:04:20 1995 from prate.sfc.gauss.85.nc\n",
      "created 95/03/13 by Hoop (netCDF2.3)\n",
      "Converted to chunked, deflated non-packed NetCDF4 2014/09\n",
      "    title: monthly mean prate.sfc from the NCEP Reanalysis\n",
      "    References: http://www.esrl.noaa.gov/psd/data/gridded/data.ncep.reanalysis.derived.html\n",
      "    dataset_title: NCEP-NCAR Reanalysis 1\n",
      "    dimensions(sizes): lat(94), lon(192), time(861)\n",
      "    variables(dimensions): float32 \u001b[4mlat\u001b[0m(lat), float32 \u001b[4mlon\u001b[0m(lon), float64 \u001b[4mtime\u001b[0m(time), float32 \u001b[4mprate\u001b[0m(time,lat,lon)\n",
      "    groups: \n",
      " END\n",
      "<class 'netCDF4._netCDF4.Variable'>\n",
      "float32 air(time, lat, lon)\n",
      "    long_name: Monthly Mean of Air Temperature\n",
      "    valid_range: [150. 400.]\n",
      "    units: degK\n",
      "    add_offset: 0.0\n",
      "    scale_factor: 1.0\n",
      "    missing_value: -9.96921e+36\n",
      "    precision: 2\n",
      "    least_significant_digit: 1\n",
      "    GRIB_id: 11\n",
      "    GRIB_name: TMP\n",
      "    var_desc: Air temperature\n",
      "    level_desc: 2 m\n",
      "    statistic: Mean\n",
      "    parent_stat: Individual Obs\n",
      "    dataset: NCEP Reanalysis Derived Products\n",
      "    actual_range: [187.4545  314.80725]\n",
      "unlimited dimensions: time\n",
      "current shape = (861, 94, 192)\n",
      "filling on, default _FillValue of 9.969209968386869e+36 used\n",
      "\n",
      "(861, 94, 192)\n",
      "<class 'netCDF4._netCDF4.Variable'>\n",
      "float32 prate(time, lat, lon)\n",
      "    long_name: Monthly Mean of Precipitation Rate\n",
      "    valid_range: [-400.  700.]\n",
      "    units: Kg/m^2/s\n",
      "    add_offset: 0.0\n",
      "    scale_factor: 1.0\n",
      "    missing_value: -9.96921e+36\n",
      "    precision: 1\n",
      "    least_significant_digit: 0\n",
      "    var_desc: Precipitation Rate\n",
      "    level_desc: Surface\n",
      "    statistic: Mean\n",
      "    parent_stat: Individual Obs\n",
      "    dataset: NCEP Reanalysis Derived Products\n",
      "    actual_range: [-2.3283064e-10  5.8903999e-04]\n",
      "unlimited dimensions: time\n",
      "current shape = (861, 94, 192)\n",
      "filling on, default _FillValue of 9.969209968386869e+36 used\n",
      "\n",
      "(861, 94, 192)\n",
      "odict_keys(['lat', 'lon', 'time', 'air'])\n",
      "odict_keys(['lat', 'lon', 'time'])\n",
      "odict_keys(['lat', 'lon', 'time', 'prate'])\n"
     ]
    }
   ],
   "source": [
    "### This cell is all commented as it is only useful if the user wants to check fetures of the file. ###\n",
    "\n",
    "#file_Ts = nc(\"air.2m.mon.mean.nc\", \"r\") # open the netcdf file\n",
    "#file_Precip = nc(\"prate.sfc.mon.mean.nc\", \"r\") \n",
    "#print(file_Ts.variables.get(\"air\"))\n",
    "#print(file_Ts.variables.get(\"air\").shape)\n",
    "#print(file_Precip.variables.get(\"prate\"))\n",
    "#print(file_Precip.variables.get(\"prate\").shape)\n",
    "#print(file_Ts.variables.keys())\n",
    "#print(file_Precip.dimensions.keys())\n",
    "#print(file_Precip.variables.keys())\n"
   ]
  },
  {
   "cell_type": "code",
   "execution_count": 4,
   "metadata": {},
   "outputs": [],
   "source": [
    "def read_var_from_file (file_name, variable, lon_lat, lon_lat_name):\n",
    "    \"\"\"\n",
    "    function that reads a file, and limits a variable to a \n",
    "    region of the earth globe (latitude and longitude)\n",
    "    file_name: name of the file (as saved in the folder)\n",
    "    variable: name of the variable that has to be boxed\n",
    "    lon_lat: Boundaries of latitude and longitude for the region studied (box)\n",
    "    lon_lat_name: Array of the names that the file uses for \"latitude\" and \"longitude\" variables\n",
    "    \"\"\"\n",
    "    file = nc(file_name, \"r\")\n",
    "    \n",
    "    # extract the longitude and latitude variable values from the file\n",
    "    lon = file.variables[lon_lat_name[0]][:]\n",
    "    lat = file.variables[lon_lat_name[1]][:]\n",
    "    \n",
    "    # Make all the longitudes fall in the range of 0-360 degrees \n",
    "    # As the files don't have longitude organized from -180 to 180 deg\n",
    "    lon_lat = np.array(lon_lat)\n",
    "    lon_lat[:2] = (lon_lat[:2] + 360)%360\n",
    "    \n",
    "    # Bound the latitude between the latitude boundaries\n",
    "    lat_box = np.where((lat > lon_lat[2])&(lat < lon_lat[3]))[0]\n",
    "    \n",
    "    if lon_lat[0]>lon_lat[1]:\n",
    "        # calculate values at the west of Greenwitch\n",
    "        lon_box1 = np.where((lon >= lon_lat[0]))[0]\n",
    "        # calculate values at the east of Greenwitch\n",
    "        lon_box2 = np.where((lon <= lon_lat[1]))[0]\n",
    "        # extract data for the west of Greenwitch\n",
    "        geo_box1 = file.variables[variable][:,lat_box,lon_box1]\n",
    "        # extract data for the east of Greenwitch\n",
    "        geo_box2 = file.variables[variable][:,lat_box,lon_box2]\n",
    "        # concatenate both extracted data into a single box\n",
    "        geo_box = np.concatenate((geo_box1, geo_box2), axis=2)\n",
    "    else:\n",
    "        # Bound the longitude between the longitude boundaries\n",
    "        lon_box = np.where((lon >= lon_lat[0])&(lon <= lon_lat[1]))[0]\n",
    "        # create a data varaible inside the box defined\n",
    "        geo_box = file.variables[variable][:,lat_box,lon_box]\n",
    "    return (geo_box)"
   ]
  },
  {
   "cell_type": "code",
   "execution_count": 5,
   "metadata": {},
   "outputs": [
    {
     "name": "stdout",
     "output_type": "stream",
     "text": [
      "(861, 94, 192)\n",
      "3\n",
      "(861, 94, 192)\n",
      "3\n"
     ]
    },
    {
     "data": {
      "text/plain": [
       "((861, 21, 43), (861, 21, 43))"
      ]
     },
     "execution_count": 5,
     "metadata": {},
     "output_type": "execute_result"
    }
   ],
   "source": [
    "# Box of Latitude and Longitude for Europe (lon1, lon2, lat1, lat2)\n",
    "lon_lat = [-20, 60, 30, 70]\n",
    "# The variables latitude and longitude are referenced with the following names \n",
    "lon_lat_name = [\"lon\",\"lat\"]\n",
    "# Call read_var_from_file function for both T2m and P-rate files \n",
    "Precip_NCEP = read_var_from_file(\"prate.sfc.mon.mean.nc\",\"prate\",lon_lat,lon_lat_name)\n",
    "T2m_NCEP = read_var_from_file(\"air.2m.mon.mean.nc\",\"air\",lon_lat,lon_lat_name)\n",
    "# Show shape of both files\n",
    "Precip_NCEP.shape, T2m_NCEP.shape\n"
   ]
  },
  {
   "cell_type": "code",
   "execution_count": null,
   "metadata": {},
   "outputs": [],
   "source": [
    "file_Ts.close()\n",
    "file_Precip.close()"
   ]
  },
  {
   "cell_type": "markdown",
   "metadata": {},
   "source": [
    "### Temperatura ERA4 - 3pt"
   ]
  },
  {
   "cell_type": "code",
   "execution_count": 22,
   "metadata": {},
   "outputs": [
    {
     "name": "stdout",
     "output_type": "stream",
     "text": [
      "ei <class 'netCDF4._netCDF4.Dataset'>\n",
      "root group (NETCDF3_64BIT_OFFSET data model, file format NETCDF3):\n",
      "    Conventions: CF-1.6\n",
      "    history: 2019-10-28 11:56:31 GMT by grib_to_netcdf-2.14.0: /opt/ecmwf/eccodes/bin/grib_to_netcdf -o /cache/data1/adaptor.mars.internal-1572263600.6175466-6392-6-d0f3e618-d8ee-4016-bd57-14c2ff68a5bd.nc /cache/tmp/d0f3e618-d8ee-4016-bd57-14c2ff68a5bd-adaptor.mars.internal-1572263600.6183522-6392-3-tmp.grib\n",
      "    dimensions(sizes): longitude(1440), latitude(721), time(488)\n",
      "    variables(dimensions): >f4 \u001b[4mlongitude\u001b[0m(longitude), >f4 \u001b[4mlatitude\u001b[0m(latitude), >i4 \u001b[4mtime\u001b[0m(time), >i2 \u001b[4mt2m\u001b[0m(time,latitude,longitude)\n",
      "    groups: \n",
      " END\n",
      "<class 'netCDF4._netCDF4.Variable'>\n",
      ">i2 t2m(time, latitude, longitude)\n",
      "    scale_factor: 0.0017631979796170203\n",
      "    add_offset: 257.70367009778755\n",
      "    _FillValue: -32767\n",
      "    missing_value: -32767\n",
      "    units: K\n",
      "    long_name: 2 metre temperature\n",
      "unlimited dimensions: \n",
      "current shape = (488, 721, 1440)\n",
      "filling on\n"
     ]
    }
   ],
   "source": [
    "### This cell is all commented as it is only useful if the user wants to check fetures of the file. ###\n",
    "\n",
    "#fileERA = nc(\"ERA4.nc\", \"r\")\n",
    "#print(\"ei\",fileERA,\"END\")\n",
    "#print(fileERA.variables.get(\"t2m\"))"
   ]
  },
  {
   "cell_type": "markdown",
   "metadata": {},
   "source": [
    "2) En esta pagina esta disponible la reanalysis ERA4 https://climate.copernicus.eu/climate-reanalysis, descarregar las temperaturas a dos metros mensual (2m temperature) y llegir estos datos sobre Europa"
   ]
  },
  {
   "cell_type": "code",
   "execution_count": 21,
   "metadata": {},
   "outputs": [
    {
     "data": {
      "text/plain": [
       "(488, 159, 321)"
      ]
     },
     "execution_count": 21,
     "metadata": {},
     "output_type": "execute_result"
    }
   ],
   "source": [
    "# Box of Latitude and Longitude for Europe (lon1, lon2, lat1, lat2)\n",
    "lon_lat = [-20, 60, 30, 70]\n",
    "# The variables latitude and longitude are referenced with the following names \n",
    "lon_lat_name = [\"longitude\",\"latitude\"]\n",
    "# Call read_var_from_file function for T2m file (ERA4)\n",
    "T2m_ERA4 = read_var_from_file(\"ERA4.nc\",\"t2m\",lon_lat,lon_lat_name)\n",
    "T2m_ERA4.shape     "
   ]
  },
  {
   "cell_type": "markdown",
   "metadata": {},
   "source": [
    "### Bonus - comparar la reanalysis NCEP y ERAinterim"
   ]
  },
  {
   "cell_type": "markdown",
   "metadata": {},
   "source": [
    "Comparar de la manera que os paresca mas adequada los datos de NCEP y ERA interim."
   ]
  },
  {
   "cell_type": "code",
   "execution_count": null,
   "metadata": {},
   "outputs": [],
   "source": []
  }
 ],
 "metadata": {
  "kernelspec": {
   "display_name": "Python 3",
   "language": "python",
   "name": "python3"
  },
  "language_info": {
   "codemirror_mode": {
    "name": "ipython",
    "version": 3
   },
   "file_extension": ".py",
   "mimetype": "text/x-python",
   "name": "python",
   "nbconvert_exporter": "python",
   "pygments_lexer": "ipython3",
   "version": "3.7.6"
  }
 },
 "nbformat": 4,
 "nbformat_minor": 2
}
